{
 "cells": [
  {
   "cell_type": "code",
   "execution_count": 1,
   "metadata": {},
   "outputs": [],
   "source": [
    "import os"
   ]
  },
  {
   "cell_type": "code",
   "execution_count": 2,
   "metadata": {},
   "outputs": [],
   "source": [
    "os.chdir(\"../\")"
   ]
  },
  {
   "cell_type": "code",
   "execution_count": 3,
   "metadata": {},
   "outputs": [
    {
     "data": {
      "text/plain": [
       "'c:\\\\Users\\\\user\\\\Downloads\\\\ten_academy\\\\week7\\\\Precision-RAG-For_Enterprise-Grade-RAG-Systems'"
      ]
     },
     "execution_count": 3,
     "metadata": {},
     "output_type": "execute_result"
    }
   ],
   "source": [
    "os.getcwd()"
   ]
  },
  {
   "cell_type": "code",
   "execution_count": 4,
   "metadata": {},
   "outputs": [],
   "source": [
    "PINECONE_INDEX_NAME = \"pdf-doc\""
   ]
  },
  {
   "cell_type": "code",
   "execution_count": 5,
   "metadata": {},
   "outputs": [],
   "source": [
    "from utils.pinecone import PineconeVector\n",
    "from utils.pdf_ingestion import split_documents\n",
    "from utils.rag import RAG\n",
    "from utils.prompt_eng import augment_prompt"
   ]
  },
  {
   "cell_type": "code",
   "execution_count": 6,
   "metadata": {},
   "outputs": [],
   "source": [
    "pcv = PineconeVector(PINECONE_INDEX_NAME)"
   ]
  },
  {
   "cell_type": "code",
   "execution_count": 7,
   "metadata": {},
   "outputs": [],
   "source": [
    "rag = RAG()"
   ]
  },
  {
   "cell_type": "code",
   "execution_count": 8,
   "metadata": {},
   "outputs": [],
   "source": [
    "split_document = split_documents()"
   ]
  },
  {
   "cell_type": "code",
   "execution_count": 9,
   "metadata": {},
   "outputs": [],
   "source": [
    "index, pc = pcv.create_pinecone_index() "
   ]
  },
  {
   "cell_type": "code",
   "execution_count": 10,
   "metadata": {},
   "outputs": [],
   "source": [
    "vector = pcv.insert(split_document)"
   ]
  },
  {
   "cell_type": "code",
   "execution_count": 23,
   "metadata": {},
   "outputs": [],
   "source": [
    "source_knowledge = pcv.search_vectorstore(\"what is the group work policy?\")"
   ]
  },
  {
   "cell_type": "code",
   "execution_count": 24,
   "metadata": {},
   "outputs": [
    {
     "data": {
      "text/plain": [
       "'The\\ngoal\\nof\\nthis\\napproach\\nis\\nto\\nsupport\\nand\\nreward\\nexpertise\\nin\\ndiﬀerent\\nparts\\nof\\nthe\\nMachine\\nlearning\\nengineering\\ntoolbox.\\nGroup\\nWork\\nPolicy\\nEveryone\\nhas\\nto\\nsubmit\\nall\\ntheir\\nwork\\nindividually.\\nThe\\ngoal\\nof\\nthis\\napproach\\nis\\nto\\nsupport\\nand\\nreward\\nexpertise\\nin\\ndiﬀerent\\nparts\\nof\\nthe\\nMachine\\nlearning\\nengineering\\ntoolbox.\\nGroup\\nWork\\nPolicy\\nEveryone\\nhas\\nto\\nsubmit\\nall\\ntheir\\nwork\\nindividually.\\nThe\\ngoal\\nof\\nthis\\napproach\\nis\\nto\\nsupport\\nand\\nreward\\nexpertise\\nin\\ndiﬀerent\\nparts\\nof\\nthe\\nMachine\\nlearning\\nengineering\\ntoolbox.\\nGroup\\nWork\\nPolicy\\nEveryone\\nhas\\nto\\nsubmit\\nall\\ntheir\\nwork\\nindividually.'"
      ]
     },
     "execution_count": 24,
     "metadata": {},
     "output_type": "execute_result"
    }
   ],
   "source": [
    "source_knowledge"
   ]
  },
  {
   "cell_type": "code",
   "execution_count": 25,
   "metadata": {},
   "outputs": [],
   "source": [
    "context = augment_prompt(\"what is the group work policy?\", source_knowledge)"
   ]
  },
  {
   "cell_type": "code",
   "execution_count": 26,
   "metadata": {},
   "outputs": [
    {
     "data": {
      "text/plain": [
       "'The group work policy states that everyone has to submit all their work individually.'"
      ]
     },
     "execution_count": 26,
     "metadata": {},
     "output_type": "execute_result"
    }
   ],
   "source": [
    "rag.generate_answer(context)"
   ]
  }
 ],
 "metadata": {
  "kernelspec": {
   "display_name": "rag",
   "language": "python",
   "name": "python3"
  },
  "language_info": {
   "codemirror_mode": {
    "name": "ipython",
    "version": 3
   },
   "file_extension": ".py",
   "mimetype": "text/x-python",
   "name": "python",
   "nbconvert_exporter": "python",
   "pygments_lexer": "ipython3",
   "version": "3.12.0"
  }
 },
 "nbformat": 4,
 "nbformat_minor": 2
}
