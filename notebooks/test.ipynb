{
 "cells": [
  {
   "cell_type": "code",
   "execution_count": 1,
   "metadata": {},
   "outputs": [],
   "source": [
    "%load_ext autoreload"
   ]
  },
  {
   "cell_type": "code",
   "execution_count": 2,
   "metadata": {},
   "outputs": [],
   "source": [
    "import os"
   ]
  },
  {
   "cell_type": "code",
   "execution_count": 3,
   "metadata": {},
   "outputs": [],
   "source": [
    "os.chdir(\"../\")"
   ]
  },
  {
   "cell_type": "code",
   "execution_count": 4,
   "metadata": {},
   "outputs": [
    {
     "data": {
      "text/plain": [
       "'c:\\\\Users\\\\user\\\\Downloads\\\\ten_academy\\\\week7\\\\Precision-RAG-For_Enterprise-Grade-RAG-Systems'"
      ]
     },
     "execution_count": 4,
     "metadata": {},
     "output_type": "execute_result"
    }
   ],
   "source": [
    "os.getcwd()"
   ]
  },
  {
   "cell_type": "code",
   "execution_count": 5,
   "metadata": {},
   "outputs": [],
   "source": [
    "PINECONE_INDEX_NAME = \"pdf-doc\""
   ]
  },
  {
   "cell_type": "code",
   "execution_count": 6,
   "metadata": {},
   "outputs": [],
   "source": [
    "from utils.pinecone import PineconeVector\n",
    "from utils.pdf_ingestion import split_documents\n",
    "from utils.rag import RAG\n",
    "from utils.prompt_eng import augment_prompt\n",
    "from notebooks.prompts import get_test_prompts"
   ]
  },
  {
   "cell_type": "code",
   "execution_count": 7,
   "metadata": {},
   "outputs": [],
   "source": [
    "pcv = PineconeVector(PINECONE_INDEX_NAME)"
   ]
  },
  {
   "cell_type": "code",
   "execution_count": 8,
   "metadata": {},
   "outputs": [],
   "source": [
    "rag = RAG()"
   ]
  },
  {
   "cell_type": "code",
   "execution_count": 9,
   "metadata": {},
   "outputs": [],
   "source": [
    "split_document = split_documents()"
   ]
  },
  {
   "cell_type": "code",
   "execution_count": 10,
   "metadata": {},
   "outputs": [],
   "source": [
    "index, pc = pcv.create_pinecone_index() "
   ]
  },
  {
   "cell_type": "code",
   "execution_count": 11,
   "metadata": {},
   "outputs": [],
   "source": [
    "vector = pcv.insert(split_document)"
   ]
  },
  {
   "cell_type": "code",
   "execution_count": 12,
   "metadata": {},
   "outputs": [],
   "source": [
    "source_knowledge = pcv.search_vectorstore(\"what is the group work policy?\")"
   ]
  },
  {
   "cell_type": "code",
   "execution_count": 13,
   "metadata": {},
   "outputs": [
    {
     "data": {
      "text/plain": [
       "'The\\ngoal\\nof\\nthis\\napproach\\nis\\nto\\nsupport\\nand\\nreward\\nexpertise\\nin\\ndiﬀerent\\nparts\\nof\\nthe\\nMachine\\nlearning\\nengineering\\ntoolbox.\\nGroup\\nWork\\nPolicy\\nEveryone\\nhas\\nto\\nsubmit\\nall\\ntheir\\nwork\\nindividually.\\nThe\\ngoal\\nof\\nthis\\napproach\\nis\\nto\\nsupport\\nand\\nreward\\nexpertise\\nin\\ndiﬀerent\\nparts\\nof\\nthe\\nMachine\\nlearning\\nengineering\\ntoolbox.\\nGroup\\nWork\\nPolicy\\nEveryone\\nhas\\nto\\nsubmit\\nall\\ntheir\\nwork\\nindividually.\\nThe\\ngoal\\nof\\nthis\\napproach\\nis\\nto\\nsupport\\nand\\nreward\\nexpertise\\nin\\ndiﬀerent\\nparts\\nof\\nthe\\nMachine\\nlearning\\nengineering\\ntoolbox.\\nGroup\\nWork\\nPolicy\\nEveryone\\nhas\\nto\\nsubmit\\nall\\ntheir\\nwork\\nindividually.'"
      ]
     },
     "execution_count": 13,
     "metadata": {},
     "output_type": "execute_result"
    }
   ],
   "source": [
    "source_knowledge"
   ]
  },
  {
   "cell_type": "code",
   "execution_count": 14,
   "metadata": {},
   "outputs": [],
   "source": [
    "n = get_test_prompts(num=5, Objective=\"what is the group work policy?\", Context=source_knowledge)"
   ]
  },
  {
   "cell_type": "code",
   "execution_count": 15,
   "metadata": {},
   "outputs": [
    {
     "data": {
      "text/plain": [
       "\"Understand the given context and generate 5 best test prompts based on the user's objective.\\n\\n    Context:\\n    The\\ngoal\\nof\\nthis\\napproach\\nis\\nto\\nsupport\\nand\\nreward\\nexpertise\\nin\\ndiﬀerent\\nparts\\nof\\nthe\\nMachine\\nlearning\\nengineering\\ntoolbox.\\nGroup\\nWork\\nPolicy\\nEveryone\\nhas\\nto\\nsubmit\\nall\\ntheir\\nwork\\nindividually.\\nThe\\ngoal\\nof\\nthis\\napproach\\nis\\nto\\nsupport\\nand\\nreward\\nexpertise\\nin\\ndiﬀerent\\nparts\\nof\\nthe\\nMachine\\nlearning\\nengineering\\ntoolbox.\\nGroup\\nWork\\nPolicy\\nEveryone\\nhas\\nto\\nsubmit\\nall\\ntheir\\nwork\\nindividually.\\nThe\\ngoal\\nof\\nthis\\napproach\\nis\\nto\\nsupport\\nand\\nreward\\nexpertise\\nin\\ndiﬀerent\\nparts\\nof\\nthe\\nMachine\\nlearning\\nengineering\\ntoolbox.\\nGroup\\nWork\\nPolicy\\nEveryone\\nhas\\nto\\nsubmit\\nall\\ntheir\\nwork\\nindividually.\\n\\n    Objective:\\n    what is the group work policy?\\n\\n    ---\\n\\n    Below is Instructions for LLM\\n\\n    Based on the provided context and user's objective, generate a series of test prompts that could help in achieving the user's goal. The prompts should cover different aspects and scenarios to ensure comprehensive understanding and results. Here are some examples to guide you:\\n\\n    1. **Summarization:**\\n    - Summarize the main points of the context related to the Objective.\\n    - Provide a brief summary focusing on specific aspect within the context.\\n\\n    2. **Extraction:**\\n    - Extract key information about specific topic from the context.\\n    - List important facts or data points related to Objective.\\n\\n    3. **Explanation:**\\n    - Explain how specific element in the context relates to Objective.\\n    - Describe the significance of particular detail in achieving Objective.\\n\\n    4. **Clarification:**\\n    - Clarify the meaning of specific term or phrase mentioned in the context.\\n    - Provide additional details or background information about specific topic.\\n\\n    5. **Question Generation:**\\n    - Generate questions that could help explore Objective further based on the context.\\n    - Create open-ended questions to facilitate deeper understanding of Objective.\\n\\n    6. **Application:**\\n    - Suggest practical applications or implications of Objective based on the context.\\n    - Propose potential use cases or scenarios where Objective can be applied.\\n\\n    OUTPUT FORMAT:\\n    Must be list of questions only\\n    No extra text\\n    No numbering or other sequential decorations\\n    All questions must be on their own lines\\n\\n    EXAMPLE OUTPUT:\\n    Summarize the main points of the context related to Objective.\\n    Extract key information about specific topic from the context.\\n    Explain how specific element in the context relates to Objective.\\n    Clarify the meaning of specific term or phrase mentioned in the context.\\n    Generate questions that could help explore Objective further based on the context.\\n    Suggest practical applications or implications of Objective based on the context.\\n    \\n\\n    \""
      ]
     },
     "execution_count": 15,
     "metadata": {},
     "output_type": "execute_result"
    }
   ],
   "source": [
    "n"
   ]
  },
  {
   "cell_type": "code",
   "execution_count": null,
   "metadata": {},
   "outputs": [],
   "source": [
    "context = augment_prompt(\"what is the group work policy?\", source_knowledge)"
   ]
  },
  {
   "cell_type": "code",
   "execution_count": 16,
   "metadata": {},
   "outputs": [
    {
     "name": "stderr",
     "output_type": "stream",
     "text": [
      "c:\\Users\\user\\Downloads\\ten_academy\\week7\\Precision-RAG-For_Enterprise-Grade-RAG-Systems\\rag\\Lib\\site-packages\\langchain_core\\_api\\deprecation.py:119: LangChainDeprecationWarning: The method `BaseChatModel.__call__` was deprecated in langchain-core 0.1.7 and will be removed in 0.3.0. Use invoke instead.\n",
      "  warn_deprecated(\n"
     ]
    }
   ],
   "source": [
    "OUT = rag.generate_answer(n)"
   ]
  },
  {
   "cell_type": "code",
   "execution_count": 17,
   "metadata": {},
   "outputs": [
    {
     "name": "stdout",
     "output_type": "stream",
     "text": [
      "What is the group work policy?\n",
      "What are the guidelines for submitting work in this approach?\n",
      "How does the approach support and reward expertise in different parts of the Machine learning engineering toolbox?\n",
      "Why is it important for everyone to submit their work individually in this context?\n",
      "What are the implications of the group work policy on collaboration and expertise development in Machine learning engineering?\n"
     ]
    }
   ],
   "source": [
    "print(OUT)"
   ]
  }
 ],
 "metadata": {
  "kernelspec": {
   "display_name": "rag",
   "language": "python",
   "name": "python3"
  },
  "language_info": {
   "codemirror_mode": {
    "name": "ipython",
    "version": 3
   },
   "file_extension": ".py",
   "mimetype": "text/x-python",
   "name": "python",
   "nbconvert_exporter": "python",
   "pygments_lexer": "ipython3",
   "version": "3.12.0"
  }
 },
 "nbformat": 4,
 "nbformat_minor": 2
}
