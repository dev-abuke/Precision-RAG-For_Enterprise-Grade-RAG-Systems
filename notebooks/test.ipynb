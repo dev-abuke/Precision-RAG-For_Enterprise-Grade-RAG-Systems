{
 "cells": [
  {
   "cell_type": "code",
   "execution_count": 1,
   "metadata": {},
   "outputs": [],
   "source": [
    "%load_ext autoreload"
   ]
  },
  {
   "cell_type": "code",
   "execution_count": 2,
   "metadata": {},
   "outputs": [],
   "source": [
    "import os"
   ]
  },
  {
   "cell_type": "code",
   "execution_count": 3,
   "metadata": {},
   "outputs": [],
   "source": [
    "os.chdir(\"../\")"
   ]
  },
  {
   "cell_type": "code",
   "execution_count": 4,
   "metadata": {},
   "outputs": [
    {
     "data": {
      "text/plain": [
       "'c:\\\\Users\\\\user\\\\Downloads\\\\ten_academy\\\\week7\\\\Precision-RAG-For_Enterprise-Grade-RAG-Systems'"
      ]
     },
     "execution_count": 4,
     "metadata": {},
     "output_type": "execute_result"
    }
   ],
   "source": [
    "os.getcwd()"
   ]
  },
  {
   "cell_type": "code",
   "execution_count": 5,
   "metadata": {},
   "outputs": [],
   "source": [
    "PINECONE_INDEX_NAME = \"pdf-doc\""
   ]
  },
  {
   "cell_type": "code",
   "execution_count": 6,
   "metadata": {},
   "outputs": [],
   "source": [
    "from utils.pinecone import PineconeVector\n",
    "from utils.pdf_ingestion import split_documents\n",
    "from utils.rag import RAG\n",
    "from utils.prompt_eng import augment_prompt\n",
    "from notebooks.prompts import get_test_prompts\n",
    "\n",
    "pcv = PineconeVector(PINECONE_INDEX_NAME)\n",
    "rag = RAG()"
   ]
  },
  {
   "cell_type": "code",
   "execution_count": 7,
   "metadata": {},
   "outputs": [
    {
     "data": {
      "text/plain": [
       "[{'score': 0.81,\n",
       "  'text': 'The goal of this approach is to support and reward expertise in diﬀerent parts of the Machine learning engineering toolbox. Group Work Policy Everyone has to submit all their work individually.'},\n",
       " {'score': 0.81,\n",
       "  'text': 'The goal of this approach is to support and reward expertise in diﬀerent parts of the Machine learning engineering toolbox. Group Work Policy Everyone has to submit all their work individually.'},\n",
       " {'score': 0.81,\n",
       "  'text': 'The goal of this approach is to support and reward expertise in diﬀerent parts of the Machine learning engineering toolbox. Group Work Policy Everyone has to submit all their work individually.'}]"
      ]
     },
     "execution_count": 7,
     "metadata": {},
     "output_type": "execute_result"
    }
   ],
   "source": [
    "pcv.query(\"what is the group work policy?\")"
   ]
  },
  {
   "cell_type": "code",
   "execution_count": 8,
   "metadata": {},
   "outputs": [
    {
     "data": {
      "text/plain": [
       "[{'score': 0.82,\n",
       "  'text': \"Deliverables NOTE: Document should be a PDF stored in google drive or published blog link. DO NOT SUBMIT A LINK as PDF! If you want to submit pdf document, it should be the content of your report not a link. Interim Submission - Wednesday 8pm UTC ● Link to your code in GitHub ○ Repository where you will be using to complete the tasks in this week's challenge. A minimum requirement is that you have a well structured repository and some coding progress is made. ● A review report of your reading and understanding of Task 1 and any progress you made in other tasks. Feedback You may not receive detailed comments on your interim submission but will receive a grade. Final Submission - Saturday 8pm UTC ● Link to your code in GitHub ○ Complete work for Automatic prompt generation ○ Complete work for Automatic evaluation ○ Complete work for Evaluation Data Generation ● A blog post entry (which you can submit for example to Medium publishing) or a pdf report. Feedback You will receive\"},\n",
       " {'score': 0.82,\n",
       "  'text': \"Deliverables NOTE: Document should be a PDF stored in google drive or published blog link. DO NOT SUBMIT A LINK as PDF! If you want to submit pdf document, it should be the content of your report not a link. Interim Submission - Wednesday 8pm UTC ● Link to your code in GitHub ○ Repository where you will be using to complete the tasks in this week's challenge. A minimum requirement is that you have a well structured repository and some coding progress is made. ● A review report of your reading and understanding of Task 1 and any progress you made in other tasks. Feedback You may not receive detailed comments on your interim submission but will receive a grade. Final Submission - Saturday 8pm UTC ● Link to your code in GitHub ○ Complete work for Automatic prompt generation ○ Complete work for Automatic evaluation ○ Complete work for Evaluation Data Generation ● A blog post entry (which you can submit for example to Medium publishing) or a pdf report. Feedback You will receive\"},\n",
       " {'score': 0.82,\n",
       "  'text': \"Deliverables NOTE: Document should be a PDF stored in google drive or published blog link. DO NOT SUBMIT A LINK as PDF! If you want to submit pdf document, it should be the content of your report not a link. Interim Submission - Wednesday 8pm UTC ● Link to your code in GitHub ○ Repository where you will be using to complete the tasks in this week's challenge. A minimum requirement is that you have a well structured repository and some coding progress is made. ● A review report of your reading and understanding of Task 1 and any progress you made in other tasks. Feedback You may not receive detailed comments on your interim submission but will receive a grade. Final Submission - Saturday 8pm UTC ● Link to your code in GitHub ○ Complete work for Automatic prompt generation ○ Complete work for Automatic evaluation ○ Complete work for Evaluation Data Generation ● A blog post entry (which you can submit for example to Medium publishing) or a pdf report. Feedback You will receive\"}]"
      ]
     },
     "execution_count": 8,
     "metadata": {},
     "output_type": "execute_result"
    }
   ],
   "source": [
    "pcv.query(\"When is the last date for interim submission report to be submitted?\")"
   ]
  },
  {
   "cell_type": "code",
   "execution_count": 9,
   "metadata": {},
   "outputs": [
    {
     "data": {
      "text/plain": [
       "[{'score': 0.83,\n",
       "  'text': \"Deliverables NOTE: Document should be a PDF stored in google drive or published blog link. DO NOT SUBMIT A LINK as PDF! If you want to submit pdf document, it should be the content of your report not a link. Interim Submission - Wednesday 8pm UTC ● Link to your code in GitHub ○ Repository where you will be using to complete the tasks in this week's challenge. A minimum requirement is that you have a well structured repository and some coding progress is made. ● A review report of your reading and understanding of Task 1 and any progress you made in other tasks. Feedback You may not receive detailed comments on your interim submission but will receive a grade. Final Submission - Saturday 8pm UTC ● Link to your code in GitHub ○ Complete work for Automatic prompt generation ○ Complete work for Automatic evaluation ○ Complete work for Evaluation Data Generation ● A blog post entry (which you can submit for example to Medium publishing) or a pdf report. Feedback You will receive\"},\n",
       " {'score': 0.83,\n",
       "  'text': \"Deliverables NOTE: Document should be a PDF stored in google drive or published blog link. DO NOT SUBMIT A LINK as PDF! If you want to submit pdf document, it should be the content of your report not a link. Interim Submission - Wednesday 8pm UTC ● Link to your code in GitHub ○ Repository where you will be using to complete the tasks in this week's challenge. A minimum requirement is that you have a well structured repository and some coding progress is made. ● A review report of your reading and understanding of Task 1 and any progress you made in other tasks. Feedback You may not receive detailed comments on your interim submission but will receive a grade. Final Submission - Saturday 8pm UTC ● Link to your code in GitHub ○ Complete work for Automatic prompt generation ○ Complete work for Automatic evaluation ○ Complete work for Evaluation Data Generation ● A blog post entry (which you can submit for example to Medium publishing) or a pdf report. Feedback You will receive\"},\n",
       " {'score': 0.83,\n",
       "  'text': \"Deliverables NOTE: Document should be a PDF stored in google drive or published blog link. DO NOT SUBMIT A LINK as PDF! If you want to submit pdf document, it should be the content of your report not a link. Interim Submission - Wednesday 8pm UTC ● Link to your code in GitHub ○ Repository where you will be using to complete the tasks in this week's challenge. A minimum requirement is that you have a well structured repository and some coding progress is made. ● A review report of your reading and understanding of Task 1 and any progress you made in other tasks. Feedback You may not receive detailed comments on your interim submission but will receive a grade. Final Submission - Saturday 8pm UTC ● Link to your code in GitHub ○ Complete work for Automatic prompt generation ○ Complete work for Automatic evaluation ○ Complete work for Evaluation Data Generation ● A blog post entry (which you can submit for example to Medium publishing) or a pdf report. Feedback You will receive\"}]"
      ]
     },
     "execution_count": 9,
     "metadata": {},
     "output_type": "execute_result"
    }
   ],
   "source": [
    "pcv.query(\"When is the deadline for interim submission?\")"
   ]
  },
  {
   "cell_type": "code",
   "execution_count": null,
   "metadata": {},
   "outputs": [],
   "source": [
    "source_knowledge = pcv.search_vectorstore(\"what is the group work policy?\")"
   ]
  },
  {
   "cell_type": "code",
   "execution_count": null,
   "metadata": {},
   "outputs": [],
   "source": [
    "source_knowledge"
   ]
  },
  {
   "cell_type": "code",
   "execution_count": null,
   "metadata": {},
   "outputs": [],
   "source": [
    "n = get_test_prompts(num=5, Objective=\"what is the group work policy?\", Context=source_knowledge)"
   ]
  },
  {
   "cell_type": "code",
   "execution_count": null,
   "metadata": {},
   "outputs": [],
   "source": [
    "n"
   ]
  },
  {
   "cell_type": "code",
   "execution_count": null,
   "metadata": {},
   "outputs": [],
   "source": [
    "context = augment_prompt(\"what is the group work policy?\", source_knowledge)"
   ]
  },
  {
   "cell_type": "code",
   "execution_count": null,
   "metadata": {},
   "outputs": [],
   "source": [
    "OUT = rag.generate_answer(n)"
   ]
  },
  {
   "cell_type": "code",
   "execution_count": null,
   "metadata": {},
   "outputs": [],
   "source": [
    "print(OUT)"
   ]
  }
 ],
 "metadata": {
  "kernelspec": {
   "display_name": "rag",
   "language": "python",
   "name": "python3"
  },
  "language_info": {
   "codemirror_mode": {
    "name": "ipython",
    "version": 3
   },
   "file_extension": ".py",
   "mimetype": "text/x-python",
   "name": "python",
   "nbconvert_exporter": "python",
   "pygments_lexer": "ipython3",
   "version": "3.12.0"
  }
 },
 "nbformat": 4,
 "nbformat_minor": 2
}
